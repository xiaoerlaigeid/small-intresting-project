{
 "cells": [
  {
   "cell_type": "markdown",
   "metadata": {},
   "source": [
    "<div class=\"clearfix\" style=\"padding: 10px; padding-left: 0px\">\n",
    "<img src=\"unilogoblack.jpeg\" width=\"250px\" style=\"display: inline-block; margin-top: 5px;\">\n",
    "<a href=\"http://www.python.org\"><img src=\"Python-logo-notext.svg\" width=\"70px\" class=\"pull-right\" style=\"display: inline-block; margin: 0px;\"></a>\n",
    "</div>\n",
    "\n",
    "\n",
    "# Basic Scientific Python\n",
    "\n",
    "J. D. Nichols 2015\n",
    "\n",
    "## Section 6: Introducing Numpy\n",
    "\n",
    "### Numpy, and importing modules\n",
    "\n",
    "As we have seen, we can use the built-in Python objects to perform repetative operations.  However, we have used relatively small numbers of objects, and if we were to increase the numbers of iterations, we would quickly find that the time taken to perform these operations in Python is not negligible.  We also found that to make changes to a list (e.g. to square it) we had to manually tell the computer to loop over the whole array, which itself becomes somewhat repetitive after a while.\n",
    "\n",
    "This is where Numpy comes in. Numpy stands for *Num*erical *Py*thon, and it cures both these problems.  It provides its own type, called an `NDArray`, which allows fast and easy operations on whole arrays at once. The key difference between Numpy's `NDArray`s and Python's lists is that all the elements in an `NDArray` are forced to be the same type of object, be it `int`s, `float`s or whatever.  Numpy's core code is written in C, and all the looping is done in that language, behind the scenes, with much less overhead than looping in Python.  The result is that, while the results are not *quite* as fast as pure C execution, the speed hit is probably much less than the gain in time created by the ease of use of Numpy relative to C.\n",
    "\n",
    "Let's take a look at an example. First, you need to ensure that you run the following line every time you use this Notebook:"
   ]
  },
  {
   "cell_type": "code",
   "execution_count": 4,
   "metadata": {
    "collapsed": false
   },
   "outputs": [],
   "source": [
    "import numpy as np"
   ]
  },
  {
   "cell_type": "code",
   "execution_count": 2,
   "metadata": {
    "collapsed": false
   },
   "outputs": [
    {
     "name": "stdout",
     "output_type": "stream",
     "text": [
      "[   0    1    4    9   16   25   36   49   64   81  100  121  144  169  196\n",
      "  225  256  289  324  361  400  441  484  529  576  625  676  729  784  841\n",
      "  900  961 1024 1089 1156 1225 1296 1369 1444 1521 1600 1681 1764 1849 1936\n",
      " 2025 2116 2209 2304 2401 2500 2601 2704 2809 2916 3025 3136 3249 3364 3481\n",
      " 3600 3721 3844 3969 4096 4225 4356 4489 4624 4761 4900 5041 5184 5329 5476\n",
      " 5625 5776 5929 6084 6241 6400 6561 6724 6889 7056 7225 7396 7569 7744 7921\n",
      " 8100 8281 8464 8649 8836 9025 9216 9409 9604 9801]\n",
      "0\n",
      "[2 4 6 8]\n"
     ]
    }
   ],
   "source": [
    "x = np.arange(100)\n",
    "y = x**2\n",
    "print y\n",
    "print x[0]\n",
    "print x[2:10:2]"
   ]
  },
  {
   "cell_type": "markdown",
   "metadata": {},
   "source": [
    "Nice and easy!  But let's have a look at this. On line 1, we have the line \n",
    "\n",
    "```python\n",
    "import numpy as np\n",
    "```\n",
    "\n",
    "This is the standard way of importing Numpy.  What do we mean by \"import\"?  Importing is one of the strengths of Python.  It allows an easy way to effectively 'copy-and-paste' a bundle of code (called a *module*, discussed later) into your program, and at the same time provides its own namespace.  This means that any variable or function associated with Numpy is accessed via `numpy.<something>`, and it is very clear what functions and variables belong to which bits of code.  This saves a lot of hassle!  In our example above, we have imported Numpy, and changed the name of the namespace to `np`, which saves a bit of typing and, as indicated, is now conventional practice.  \n",
    "\n",
    "There is another way of importing modules, in which all of the objects in the module are dumped directly into your `__main__` namespace, thereby eliminating the need to write e.g. `\"np.\"` before each function in that module.  This syntax is, using our Numpy example, \n",
    "\n",
    "```python\n",
    "from numpy import *\n",
    "```\n",
    "which means \"import everything from Numpy and stick it all in my namespace\".  There are strongly-held opinions on both sides of the debate as to whether this is a good idea. In IPython, there is even the option\n",
    "\n",
    "```python\n",
    "from pylab import *\n",
    "```\n",
    "\n",
    "which imports everything from Numpy, Scipy, and Matplotlib  (we will meet these later).  There is no doubt that this saves on typing, and if you are familiar with these modules then you can generally avoid the problems that come with loading up your `__main__` namespace, e.g. overwriting object identifiers.  However, at this stage, we will stick to the \"best practice\" approach and use the standard, separate namespaces for all these modules. \n",
    "\n",
    "<div class=\"alert alert-success\" style=\"width: 60%; margin-left: 20%; margin-top:20px\">\n",
    "<p>**INFO**</p>\n",
    "<p>You might hear of a \"Pythonic\" way of doing things.  This means that the code is in conformity with the [Zen of Python](https://www.python.org/dev/peps/pep-0020/), one rule of which is \"Explicit is better than implicit\", i.e. make it blatantly obvious what you're doing.</p>\n",
    "</div>"
   ]
  },
  {
   "cell_type": "markdown",
   "metadata": {},
   "source": [
    "### Creating NDArrays, and using Numpy functions\n",
    "\n",
    "Once we have imported Numpy (and we only have to do this once), we can use its functions.  To find out how many functions there are in Numpy, press `TAB` in the folllowing cell:"
   ]
  },
  {
   "cell_type": "code",
   "execution_count": 4,
   "metadata": {
    "collapsed": false
   },
   "outputs": [],
   "source": [
    "np.square?"
   ]
  },
  {
   "cell_type": "markdown",
   "metadata": {},
   "source": [
    "If you wish to know what a particular function does, remember you can type its name, with a following `'?'` to get some help. You should also make regular visits to the [Numpy docs](http://docs.scipy.org/doc/numpy/reference/).  \n",
    "\n",
    "We used above the function `arange`, which as its name implies is similar to the pure Python `range` function we have used previously, but returns a Numpy `NDArray`. The syntax to call the function is as follows:\n",
    "\n",
    "```python\n",
    "result = np.arange(start=0, stop, step=1)\n",
    "```\n",
    "If start is not given, the list starts at zero, and if step is not given, it defaults to 1; this is also the case for `range`.  The type of the objects in the returned array is inferred from the type of the arguments, i.e. if they are `int`s, the output is an array of `int`s, etc.\n",
    "\n",
    "\n",
    "#### Task 6.1\n",
    "Use `np.arange` to produce arrays which\n",
    "\n",
    "* Go from 10-30 in steps of 0.5\n",
    "* Count backwards from 50 to 0\n"
   ]
  },
  {
   "cell_type": "code",
   "execution_count": 4,
   "metadata": {
    "collapsed": false
   },
   "outputs": [
    {
     "name": "stdout",
     "output_type": "stream",
     "text": [
      "[ 10.   10.5  11.   11.5  12.   12.5  13.   13.5  14.   14.5  15.   15.5\n",
      "  16.   16.5  17.   17.5  18.   18.5  19.   19.5  20.   20.5  21.   21.5\n",
      "  22.   22.5  23.   23.5  24.   24.5  25.   25.5  26.   26.5  27.   27.5\n",
      "  28.   28.5  29.   29.5  30. ]\n",
      "[50 49 48 47 46 45 44 43 42 41 40 39 38 37 36 35 34 33 32 31 30 29 28 27 26\n",
      " 25 24 23 22 21 20 19 18 17 16 15 14 13 12 11 10  9  8  7  6  5  4  3  2  1\n",
      "  0]\n"
     ]
    }
   ],
   "source": [
    "#Answer\n",
    "print np.arange(10,30.5,0.5)\n",
    "print np.arange(50,-1,-1)"
   ]
  },
  {
   "cell_type": "markdown",
   "metadata": {},
   "source": [
    "Another way of creating arrays of sequential numbers is the function `np.linspace`:"
   ]
  },
  {
   "cell_type": "code",
   "execution_count": 7,
   "metadata": {
    "collapsed": false
   },
   "outputs": [
    {
     "name": "stdout",
     "output_type": "stream",
     "text": [
      "[  5.           7.22222222   9.44444444  11.66666667  13.88888889\n",
      "  16.11111111  18.33333333  20.55555556  22.77777778  25.        ]\n"
     ]
    }
   ],
   "source": [
    "x = np.linspace(5, 25, 10)\n",
    "print x"
   ]
  },
  {
   "cell_type": "markdown",
   "metadata": {},
   "source": [
    "Using this function, we can specify the start and the end values, and the number of points. If we set the keyword 'retstep = True', we can also return the step in between each point:"
   ]
  },
  {
   "cell_type": "code",
   "execution_count": 6,
   "metadata": {
    "collapsed": false
   },
   "outputs": [
    {
     "name": "stdout",
     "output_type": "stream",
     "text": [
      "[  5.           7.22222222   9.44444444  11.66666667  13.88888889\n",
      "  16.11111111  18.33333333  20.55555556  22.77777778  25.        ] 2.22222222222\n"
     ]
    }
   ],
   "source": [
    "x, dx = np.linspace(5, 25, 10, retstep=True)\n",
    "print x, dx"
   ]
  },
  {
   "cell_type": "markdown",
   "metadata": {},
   "source": [
    "#### Task 6.2\n",
    "\n",
    "Using `linspace`, create and print an array with 20 elements that goes from 20-30, along with the difference between each value.  Then, create an array that goes from 0.1 to 100 in 20 even steps on a logarithmic scale (check out the docstring for `logspace`)."
   ]
  },
  {
   "cell_type": "code",
   "execution_count": 7,
   "metadata": {
    "collapsed": false
   },
   "outputs": [
    {
     "name": "stdout",
     "output_type": "stream",
     "text": [
      "[ 20.          20.52631579  21.05263158  21.57894737  22.10526316\n",
      "  22.63157895  23.15789474  23.68421053  24.21052632  24.73684211\n",
      "  25.26315789  25.78947368  26.31578947  26.84210526  27.36842105\n",
      "  27.89473684  28.42105263  28.94736842  29.47368421  30.        ] 0.526315789474\n",
      "[   0.1           0.14384499    0.20691381    0.29763514    0.42813324\n",
      "    0.61584821    0.88586679    1.27427499    1.83298071    2.6366509\n",
      "    3.79269019    5.45559478    7.8475997    11.28837892   16.23776739\n",
      "   23.35721469   33.59818286   48.32930239   69.51927962  100.        ]\n"
     ]
    }
   ],
   "source": [
    "#Answers\n",
    "\n",
    "x, dx = np.linspace(20,30, 20,retstep=True)\n",
    "print x, dx\n",
    "y = np.logspace(-1,2, 20)\n",
    "print y"
   ]
  },
  {
   "cell_type": "markdown",
   "metadata": {},
   "source": [
    "Further useful ways of creating arrays are the following... \n",
    "\n",
    "#### Task 6.3 \n",
    "Execute the following cell and write down what each (non-print) line does."
   ]
  },
  {
   "cell_type": "code",
   "execution_count": 8,
   "metadata": {
    "collapsed": false
   },
   "outputs": [
    {
     "name": "stdout",
     "output_type": "stream",
     "text": [
      "[ 0.  0.  0.  0.  0.  0.  0.  0.  0.  0.]\n",
      "[ 1.  1.  1.  1.  1.  1.  1.  1.  1.  1.  1.  1.  1.  1.  1.]\n",
      "[1 6 3 6 9 3 6 4 8 5]\n",
      "[0 0 0 0 0 0 0 0 0 0]\n",
      "[ 3.  6.  9.]\n"
     ]
    }
   ],
   "source": [
    "arr1 = np.zeros(10)\n",
    "print arr1\n",
    "arr2 = np.ones(15)\n",
    "print arr2\n",
    "arr3 = np.array([1,6,3,6,9,3,6,4,8,5])\n",
    "print arr3\n",
    "arr4 = np.zeros_like(arr3)\n",
    "print arr4\n",
    "arr5 = np.array([3,6,9.])\n",
    "print arr5"
   ]
  },
  {
   "cell_type": "markdown",
   "metadata": {},
   "source": [
    "Double-click to edit me"
   ]
  },
  {
   "cell_type": "markdown",
   "metadata": {},
   "source": [
    "Once we have our array, we can perform operations on the whole thing at once, as we did at the beginning of this section where  we squared the array. To multiply `arr3` by 10, we simply do:"
   ]
  },
  {
   "cell_type": "code",
   "execution_count": 9,
   "metadata": {
    "collapsed": false
   },
   "outputs": [
    {
     "name": "stdout",
     "output_type": "stream",
     "text": [
      "[10 60 30 60 90 30 60 40 80 50]\n"
     ]
    }
   ],
   "source": [
    "print arr3*10"
   ]
  },
  {
   "cell_type": "markdown",
   "metadata": {},
   "source": [
    "<div class=\"alert alert-warning\" style=\"width: 60%; margin-left: 20%; margin-top:20px\">\n",
    "<p>**IMPORTANT!**</p>\n",
    "<p>Remember that, although multiplying a Python list by a number n produces a list with n copies of that list, multiplying a Numpy array by n returns an array in which each element is multiplied by that number.</p>\n",
    "</div>\n",
    "\n",
    "We can also index and slice the array, just as we did with lists:"
   ]
  },
  {
   "cell_type": "code",
   "execution_count": 10,
   "metadata": {
    "collapsed": false
   },
   "outputs": [
    {
     "name": "stdout",
     "output_type": "stream",
     "text": [
      "1\n",
      "[3 9 6]\n"
     ]
    }
   ],
   "source": [
    "print arr3[0]\n",
    "print arr3[2:8:2]"
   ]
  },
  {
   "cell_type": "markdown",
   "metadata": {},
   "source": [
    "However, note that in Numpy, the above slices are actually references to the original object in the computer's memory (not copies of the object, as is the behaviour for Python lists). \n",
    "\n",
    "Now take a look at the following:"
   ]
  },
  {
   "cell_type": "code",
   "execution_count": 11,
   "metadata": {
    "collapsed": false
   },
   "outputs": [
    {
     "data": {
      "text/plain": [
       "[<matplotlib.lines.Line2D at 0x10de8b6d0>]"
      ]
     },
     "execution_count": 11,
     "metadata": {},
     "output_type": "execute_result"
    },
    {
     "data": {
      "image/png": "[encoded data removed]",
      "text/plain": [
       "<matplotlib.figure.Figure at 0x10ae63290>"
      ]
     },
     "metadata": {},
     "output_type": "display_data"
    }
   ],
   "source": [
    "import matplotlib.pyplot as plt\n",
    "%matplotlib inline\n",
    "plt.ion()\n",
    "\n",
    "x = np.linspace(0,20, 100)\n",
    "y = -0.003*x**3 + 0.1*x**2 - x\n",
    "plt.plot(x,y)"
   ]
  },
  {
   "cell_type": "markdown",
   "metadata": {},
   "source": [
    "On line 1 we have imported the `matplotlib` plotting library into the namespace `plt`.  Ignore lines 2 and 3 for now. We have then on line 5 created an array of sequencial numbers `x`, fed them into a \n",
    "cubic polynomial to produce values `y`, and then plotted `y` versus `x`. Note that the range of the plot axes are chosen automatically, but these can be changed, as we'll see later.  \n",
    "\n",
    "\n",
    "#### Task 6.4\n",
    "\n",
    "Create an array `t` that increases from 0 to $2\\pi$ in a suitable number of steps, and plot $y=sin(t)$."
   ]
  },
  {
   "cell_type": "code",
   "execution_count": 12,
   "metadata": {
    "collapsed": false
   },
   "outputs": [
    {
     "data": {
      "text/plain": [
       "[<matplotlib.lines.Line2D at 0x10e1d33d0>]"
      ]
     },
     "execution_count": 12,
     "metadata": {},
     "output_type": "execute_result"
    },
    {
     "data": {
      "image/png": "[encoded data removed]",
      "text/plain": [
       "<matplotlib.figure.Figure at 0x10ae3ee90>"
      ]
     },
     "metadata": {},
     "output_type": "display_data"
    }
   ],
   "source": [
    "#Answer\n",
    "\n",
    "t = np.linspace(0, 2*np.pi, 100)\n",
    "y = np.sin(t)\n",
    "plt.plot(t,y)"
   ]
  },
  {
   "cell_type": "markdown",
   "metadata": {},
   "source": [
    "#### Task 6.5\n",
    "\n",
    "Try a few different functions, and plot them.  Numpy has quite a library to choose from!"
   ]
  },
  {
   "cell_type": "code",
   "execution_count": 13,
   "metadata": {
    "collapsed": false
   },
   "outputs": [
    {
     "data": {
      "text/plain": [
       "[<matplotlib.lines.Line2D at 0x10e537590>]"
      ]
     },
     "execution_count": 13,
     "metadata": {},
     "output_type": "execute_result"
    },
    {
     "data": {
      "image/png": "[encoded data removed]",
      "text/plain": [
       "<matplotlib.figure.Figure at 0x10e12be50>"
      ]
     },
     "metadata": {},
     "output_type": "display_data"
    }
   ],
   "source": [
    "#Answer example\n",
    "\n",
    "x = np.linspace(0, 5, 100)\n",
    "y = np.exp(x)\n",
    "plt.plot(x,y)"
   ]
  },
  {
   "cell_type": "code",
   "execution_count": 14,
   "metadata": {
    "collapsed": false
   },
   "outputs": [
    {
     "data": {
      "text/plain": [
       "[<matplotlib.lines.Line2D at 0x10e643c10>]"
      ]
     },
     "execution_count": 14,
     "metadata": {},
     "output_type": "execute_result"
    },
    {
     "data": {
      "image/png": "[encoded data removed]",
      "text/plain": [
       "<matplotlib.figure.Figure at 0x10e56a150>"
      ]
     },
     "metadata": {},
     "output_type": "display_data"
    }
   ],
   "source": [
    "#Answer example\n",
    "\n",
    "x = np.linspace(-3, 3, 100)\n",
    "y = np.tanh(x)\n",
    "plt.plot(x,y)"
   ]
  },
  {
   "cell_type": "code",
   "execution_count": 14,
   "metadata": {
    "collapsed": false
   },
   "outputs": [],
   "source": []
  },
  {
   "cell_type": "code",
   "execution_count": 14,
   "metadata": {
    "collapsed": false
   },
   "outputs": [],
   "source": []
  },
  {
   "cell_type": "markdown",
   "metadata": {},
   "source": [
    "Because the looping over Numpy arrays occurs in fast code behind the scenes, it is a golden rule that the ponderous Python loops should be avoided where at all possible, in favour of Numpy's functions.  This is clearly not always possible, but it's worth trying to limit their use as much as possible.\n",
    "\n",
    "<div class=\"alert alert-warning\" style=\"width: 60%; margin-left: 20%; margin-top:20px\">\n",
    "<p>**IMPORTANT!**</p>\n",
    "<p>Loops are evil!</p>\n",
    "</div>\n",
    "\n"
   ]
  },
  {
   "cell_type": "markdown",
   "metadata": {},
   "source": [
    "#### Task 6.6\n",
    "Now use Numpy functions to re-write your factorial code and your trapezium rule integration, both in one line!"
   ]
  },
  {
   "cell_type": "code",
   "execution_count": 15,
   "metadata": {
    "collapsed": false
   },
   "outputs": [
    {
     "name": "stdout",
     "output_type": "stream",
     "text": [
      "6\n",
      "335.0\n"
     ]
    }
   ],
   "source": [
    "#Answer\n",
    "print np.product(np.arange(1,4))\n",
    "print np.trapz(np.arange(11)**2)"
   ]
  },
  {
   "cell_type": "markdown",
   "metadata": {},
   "source": [
    "#### Task 6.7\n",
    "Let's have a look at conditions again: Execute the following cell and write down what is happening."
   ]
  },
  {
   "cell_type": "code",
   "execution_count": 16,
   "metadata": {
    "collapsed": false
   },
   "outputs": [
    {
     "name": "stdout",
     "output_type": "stream",
     "text": [
      "[ 0  2  4  6  8 10 12 14 16 18]\n",
      "[False False False False False False  True  True  True  True]\n",
      "[12 14 16 18]\n",
      "[6 7 8 9]\n",
      "['Hamster' 'Hamster' 'Hamster' 'Hamster' 'Hamster' 'Hamster' 'Hamster'\n",
      " 'Hamster' 'Hamster' 'Hamster']\n",
      "['Elderberries' 'Elderberries' 'Elderberries' 'Elderberries' 'Elderberries'\n",
      " 'Elderberries' 'Hamster' 'Hamster' 'Hamster' 'Hamster']\n"
     ]
    }
   ],
   "source": [
    "x = np.arange(10)*2\n",
    "print x\n",
    "inx = x > 10\n",
    "print inx\n",
    "print x[inx]\n",
    "print np.where(inx)[0]\n",
    "\n",
    "y = np.tile('Hamster', 10)\n",
    "z = np.tile('Elderberries', 10)\n",
    "print y\n",
    "print np.where(inx, y, z)"
   ]
  },
  {
   "cell_type": "markdown",
   "metadata": {},
   "source": [
    "Double-click to edit me"
   ]
  },
  {
   "cell_type": "markdown",
   "metadata": {},
   "source": [
    "One-dimensional arrays are sometimes called *vectors*, as they can be compared directly to these mathematical constructs.  However, it must be noted that array operations do not always correspond to vector operations.  For vector addition, we are OK:"
   ]
  },
  {
   "cell_type": "code",
   "execution_count": 17,
   "metadata": {
    "collapsed": false
   },
   "outputs": [
    {
     "name": "stdout",
     "output_type": "stream",
     "text": [
      "[ 4 11  6]\n"
     ]
    }
   ],
   "source": [
    "x = np.array([3,5,4])\n",
    "y = np.array([1,6,2])\n",
    "print x + y"
   ]
  },
  {
   "cell_type": "markdown",
   "metadata": {},
   "source": [
    "As mentioned above, the elements are operated on element-wise, i.e. the first elements are summed, the second are summed, etc.  This corresponds to the rules of vector addition.  However, for vector multiplication, there are two methods: taking the scalar (dot) and vector (cross) products, each with a different physical meaning, as has been covered in the Maths course.  Let's see what happens when we multiply two arrays together:"
   ]
  },
  {
   "cell_type": "code",
   "execution_count": 18,
   "metadata": {
    "collapsed": false
   },
   "outputs": [
    {
     "name": "stdout",
     "output_type": "stream",
     "text": [
      "[ 3 30  8]\n"
     ]
    }
   ],
   "source": [
    "print x*y"
   ]
  },
  {
   "cell_type": "markdown",
   "metadata": {},
   "source": [
    "Note again that operations proceed element-wise.  If we want scalar and vector multiplication, we use Numpy functions:"
   ]
  },
  {
   "cell_type": "code",
   "execution_count": 19,
   "metadata": {
    "collapsed": false
   },
   "outputs": [
    {
     "name": "stdout",
     "output_type": "stream",
     "text": [
      "41\n",
      "[-14  -2  13]\n"
     ]
    }
   ],
   "source": [
    "print np.dot(x,y)\n",
    "print np.cross(x,y)"
   ]
  },
  {
   "cell_type": "markdown",
   "metadata": {},
   "source": [
    "You can easily verify by hand that these results are as we expect.  \n",
    "\n",
    "#### Task 6.8\n",
    "\n",
    "An electron is moving with a velocity $\\mathbf{v}(x,y,z)=(3.4,2.5,5.5)\\;\\mathrm{km\\,s^{-1}}$ a region of space in which the magnetic field vector is $\\mathbf{B}(x,y,z)=(5.4,8.2,6.5)\\;\\mathrm{nT}$ and the electric field is zero.  Calculate the acceleration due to the Lorentz force experienced by the electron."
   ]
  },
  {
   "cell_type": "code",
   "execution_count": 20,
   "metadata": {
    "collapsed": false
   },
   "outputs": [
    {
     "name": "stdout",
     "output_type": "stream",
     "text": [
      "[-5074.20845326  1336.70655961  2529.18951674]\n"
     ]
    }
   ],
   "source": [
    "#Answer\n",
    "\n",
    "q = 1.60218e-19\n",
    "m = 9.10938e-31\n",
    "v = np.array([3.4,2.5,5.5])*1E3\n",
    "b = np.array([5.4,8.2,6.5])*1E-9\n",
    "a = q*np.cross(v,b)/m/1E3\n",
    "print a #km/s2"
   ]
  },
  {
   "cell_type": "markdown",
   "metadata": {},
   "source": [
    "### N-Dimensional arrays and broadcasting\n",
    "\n",
    "We have so far dealt with one-dimensional arrays, i.e. sequences with one line of numbers.  Numpy arrays can have an arbitrary number of dimensions; however, the most common numbers used are 1-3.  Let's look at a two-dimensional array:"
   ]
  },
  {
   "cell_type": "code",
   "execution_count": 21,
   "metadata": {
    "collapsed": false
   },
   "outputs": [
    {
     "name": "stdout",
     "output_type": "stream",
     "text": [
      "[[2 4 5]\n",
      " [5 7 5]\n",
      " [8 2 3]]\n"
     ]
    }
   ],
   "source": [
    "x = np.array([[2,4,5],[5,7,5],[8,2,3]])\n",
    "print x"
   ]
  },
  {
   "cell_type": "markdown",
   "metadata": {},
   "source": [
    "The array is defined from a list of lists (and a 3-D array would be a list of list of lists!). To access an individual element, we can index the array, just as we have done previously:"
   ]
  },
  {
   "cell_type": "code",
   "execution_count": 22,
   "metadata": {
    "collapsed": false
   },
   "outputs": [
    {
     "name": "stdout",
     "output_type": "stream",
     "text": [
      "2\n",
      "8\n"
     ]
    }
   ],
   "source": [
    "print x[0,0]\n",
    "print x[2,0]"
   ]
  },
  {
   "cell_type": "markdown",
   "metadata": {},
   "source": [
    "Note that the indexing system is *row oriented*; this means that, unlike graphical coordinates which have $(x,y)$, where $x$ is the 'horizontal' coordinate and $y$ is the 'vertical' coordinate, in Numpy the first index refers to the rows, i.e. the vertical coordinate, and the second to the columns, i.e. the horizontal coordinate.  We can also slice the array, like we did with lists:"
   ]
  },
  {
   "cell_type": "code",
   "execution_count": 23,
   "metadata": {
    "collapsed": false
   },
   "outputs": [
    {
     "name": "stdout",
     "output_type": "stream",
     "text": [
      "[2 4 5]\n",
      "[2 5 8]\n",
      "[2 5]\n"
     ]
    }
   ],
   "source": [
    "print x[0,:]\n",
    "print x[:,0]\n",
    "print x[:2,0]"
   ]
  },
  {
   "cell_type": "markdown",
   "metadata": {},
   "source": [
    "Two dimensional array can also be created from the `NDArray` constructors we met previously, and modified by slice:"
   ]
  },
  {
   "cell_type": "code",
   "execution_count": 24,
   "metadata": {
    "collapsed": false
   },
   "outputs": [
    {
     "name": "stdout",
     "output_type": "stream",
     "text": [
      "[[ 0.  0.  0.]\n",
      " [ 0.  0.  0.]]\n",
      "[[ 1.  1.  1.  1.]\n",
      " [ 1.  1.  1.  1.]\n",
      " [ 1.  1.  1.  1.]]\n",
      "[[ 10.   1.   1.   1.]\n",
      " [ 10.   1.   1.   1.]\n",
      " [ 10.   1.   1.   1.]]\n",
      "[[ 10.   1.   1.   1.]\n",
      " [  5.   5.   5.   5.]\n",
      " [ 10.   1.   1.   1.]]\n"
     ]
    }
   ],
   "source": [
    "x = np.zeros((2,3))\n",
    "print x\n",
    "x = np.ones((3,4))\n",
    "print x\n",
    "x[:,0] = 10\n",
    "print x\n",
    "x[1,:] = 5\n",
    "print x"
   ]
  },
  {
   "cell_type": "markdown",
   "metadata": {},
   "source": [
    "#### Task 6.9\n",
    "\n",
    "Write a function that prints the first n rows of [Pascal's triangle](http://mathworld.wolfram.com/PascalsTriangle.html). Using the material we have covered, you should be able to write such a function in ~8 lines."
   ]
  },
  {
   "cell_type": "code",
   "execution_count": 25,
   "metadata": {
    "collapsed": false
   },
   "outputs": [
    {
     "name": "stdout",
     "output_type": "stream",
     "text": [
      "[ 1.]\n",
      "[ 1.  1.]\n",
      "[ 1.  2.  1.]\n",
      "[ 1.  3.  3.  1.]\n",
      "[ 1.  4.  6.  4.  1.]\n",
      "[  1.   5.  10.  10.   5.   1.]\n",
      "[  1.   6.  15.  20.  15.   6.   1.]\n",
      "[  1.   7.  21.  35.  35.  21.   7.   1.]\n",
      "[  1.   8.  28.  56.  70.  56.  28.   8.   1.]\n",
      "[   1.    9.   36.   84.  126.  126.   84.   36.    9.    1.]\n"
     ]
    }
   ],
   "source": [
    "#Answer\n",
    "\n",
    "def pascal(n):\n",
    "    arr = np.zeros([n,n])\n",
    "    arr[:,0] = 1\n",
    "    for i in np.arange(0,n):\n",
    "        if i > 0:\n",
    "            arr[i,1:] = arr[i-1,0:-1] + arr[i-1,1:]\n",
    "        print arr[i, arr[i,:] > 0]\n",
    "    return arr\n",
    "\n",
    "res = pascal(10)"
   ]
  },
  {
   "cell_type": "markdown",
   "metadata": {},
   "source": [
    "When we defined our 2D array above, we had to spell it out in a long-handed manner, which is necessary if there is no pattern to the numbers.  If, on the other hand, there is, then we can make use of some quick ways of producing N-dimensional arrays from 1D arrays.  Take a look at the results of the following four cells:"
   ]
  },
  {
   "cell_type": "code",
   "execution_count": 26,
   "metadata": {
    "collapsed": false
   },
   "outputs": [
    {
     "name": "stdout",
     "output_type": "stream",
     "text": [
      "[[0 1 2]\n",
      " [3 4 5]\n",
      " [6 7 8]]\n"
     ]
    }
   ],
   "source": [
    "x = np.arange(9)\n",
    "r = np.reshape(x,(3,3))\n",
    "print r"
   ]
  },
  {
   "cell_type": "markdown",
   "metadata": {},
   "source": [
    "Here we defined a 9-element 1D array called `x`, and used the Numpy function `reshape` to fold this into a 2D $3\\times3$ array."
   ]
  },
  {
   "cell_type": "code",
   "execution_count": 27,
   "metadata": {
    "collapsed": false
   },
   "outputs": [
    {
     "name": "stdout",
     "output_type": "stream",
     "text": [
      "[0 1 2 3 4 5 6 7 8]\n",
      "\n",
      "[[0 0 0 0 0 0 0 0 0]\n",
      " [0 1 0 0 0 0 0 0 0]\n",
      " [0 0 2 0 0 0 0 0 0]\n",
      " [0 0 0 3 0 0 0 0 0]\n",
      " [0 0 0 0 4 0 0 0 0]\n",
      " [0 0 0 0 0 5 0 0 0]\n",
      " [0 0 0 0 0 0 6 0 0]\n",
      " [0 0 0 0 0 0 0 7 0]\n",
      " [0 0 0 0 0 0 0 0 8]]\n"
     ]
    }
   ],
   "source": [
    "d = np.diag(x)\n",
    "print x\n",
    "print ''\n",
    "print d"
   ]
  },
  {
   "cell_type": "markdown",
   "metadata": {},
   "source": [
    "Here we used the Numpy function `diag` to create a 2D array whose diagonal elements are equal to the values in array `x`, and 0 otherwise.  Such 'sparse' arrays have uses in e.g. some equation solving methods."
   ]
  },
  {
   "cell_type": "code",
   "execution_count": 28,
   "metadata": {
    "collapsed": false
   },
   "outputs": [
    {
     "name": "stdout",
     "output_type": "stream",
     "text": [
      "[[0 1 2 3 4 5 6 7 8]\n",
      " [0 1 2 3 4 5 6 7 8]\n",
      " [0 1 2 3 4 5 6 7 8]\n",
      " [0 1 2 3 4 5 6 7 8]\n",
      " [0 1 2 3 4 5 6 7 8]]\n",
      "\n",
      "[[0 0 0 0 0 0 0 0 0]\n",
      " [2 2 2 2 2 2 2 2 2]\n",
      " [4 4 4 4 4 4 4 4 4]\n",
      " [6 6 6 6 6 6 6 6 6]\n",
      " [8 8 8 8 8 8 8 8 8]]\n"
     ]
    }
   ],
   "source": [
    "y = np.arange(5)*2\n",
    "m = np.meshgrid(x,y)\n",
    "print m[0]\n",
    "print ''\n",
    "print m[1]\n"
   ]
  },
  {
   "cell_type": "markdown",
   "metadata": {},
   "source": [
    "In the above cell, we defined a second 1D array called `y`, whose values are twice those of `x`, and used the Numpy function `meshgrid` to produce an array containing two 2D arrays.  The first array contains copies of the first array in rows, 'broadcast' into the other dimension, while the second array contains copies of the second array in columns, broadcast into the other dimension.  As we will see, this is useful for producing coordinate maps in two dimensions. "
   ]
  },
  {
   "cell_type": "code",
   "execution_count": 29,
   "metadata": {
    "collapsed": false
   },
   "outputs": [
    {
     "name": "stdout",
     "output_type": "stream",
     "text": [
      "[0 1 2 3 4 5 6 7 8]\n",
      "\n",
      "[[0]\n",
      " [2]\n",
      " [4]\n",
      " [6]\n",
      " [8]]\n",
      "\n",
      "[[ 0  0  0  0  0  0  0  0  0]\n",
      " [ 0  2  4  6  8 10 12 14 16]\n",
      " [ 0  4  8 12 16 20 24 28 32]\n",
      " [ 0  6 12 18 24 30 36 42 48]\n",
      " [ 0  8 16 24 32 40 48 56 64]]\n"
     ]
    }
   ],
   "source": [
    "z = y[:,np.newaxis]\n",
    "b = x*z\n",
    "print x\n",
    "print ''\n",
    "print z\n",
    "print''\n",
    "print b\n"
   ]
  },
  {
   "cell_type": "markdown",
   "metadata": {},
   "source": [
    "What's happened here?!  The first line has produced a new array called `z`, which is just `y` transposed into the second (column) dimension.  When these two arrays in different dimensions are operated on together, broadcasting as occured in the meshgrid example above has *happened automatically*.  This provides a quick way of producing large numbers of results in very succinct code, but care must be taken to ensure that we follow what is happening. (Note that we actually used broadcasting when we multiplied the above arrays by a single `int`; the `int` was broadcast to the length of the array, and the above is just this behaviour carried over into higher dimensions).\n",
    "\n",
    "#### Task 6.10\n",
    "\n",
    "Create and print a $9\\times 9$ array (call it `r`) containing the radial distance from the middle element (in units of element number).  Print the middle column and middle row.  You can also visualise this array using:\n",
    "\n",
    "```python\n",
    "import matplotlib.pyplot as plt\n",
    "plt.imshow(r)\n",
    "```"
   ]
  },
  {
   "cell_type": "code",
   "execution_count": 8,
   "metadata": {
    "collapsed": false
   },
   "outputs": [
    {
     "name": "stdout",
     "output_type": "stream",
     "text": [
      "[[ 5.65685425  5.          4.47213595  4.12310563  4.          4.12310563\n",
      "   4.47213595  5.          5.65685425]\n",
      " [ 5.          4.24264069  3.60555128  3.16227766  3.          3.16227766\n",
      "   3.60555128  4.24264069  5.        ]\n",
      " [ 4.47213595  3.60555128  2.82842712  2.23606798  2.          2.23606798\n",
      "   2.82842712  3.60555128  4.47213595]\n",
      " [ 4.12310563  3.16227766  2.23606798  1.41421356  1.          1.41421356\n",
      "   2.23606798  3.16227766  4.12310563]\n",
      " [ 4.          3.          2.          1.          0.          1.          2.\n",
      "   3.          4.        ]\n",
      " [ 4.12310563  3.16227766  2.23606798  1.41421356  1.          1.41421356\n",
      "   2.23606798  3.16227766  4.12310563]\n",
      " [ 4.47213595  3.60555128  2.82842712  2.23606798  2.          2.23606798\n",
      "   2.82842712  3.60555128  4.47213595]\n",
      " [ 5.          4.24264069  3.60555128  3.16227766  3.          3.16227766\n",
      "   3.60555128  4.24264069  5.        ]\n",
      " [ 5.65685425  5.          4.47213595  4.12310563  4.          4.12310563\n",
      "   4.47213595  5.          5.65685425]]\n",
      "[ 4.  3.  2.  1.  0.  1.  2.  3.  4.]\n",
      "[ 4.  3.  2.  1.  0.  1.  2.  3.  4.]\n"
     ]
    },
    {
     "data": {
      "text/plain": [
       "<matplotlib.image.AxesImage at 0x1082c5090>"
      ]
     },
     "execution_count": 8,
     "metadata": {},
     "output_type": "execute_result"
    }
   ],
   "source": [
    "#Answer\n",
    "\n",
    "xarr = np.linspace(-4,4,9) # or...\n",
    "yarr = np.arange(-4,5)\n",
    "x,y = np.meshgrid(xarr,yarr)\n",
    "r = np.sqrt(x**2+y**2)\n",
    "print r\n",
    "print r[4,:]\n",
    "print r[:,4]\n",
    "import matplotlib.pyplot as plt\n",
    "plt.imshow(r)"
   ]
  },
  {
   "cell_type": "markdown",
   "metadata": {},
   "source": [
    "#### Task 6.11\n",
    "\n",
    "Take a photo of a snooker ball in space!  Create a $1024\\times 1024$ array (the image) with a ball of radius 400 elements centred in the centre of the image.  The intensity of the light reflected toward us (assuming we are the source of light) can be computed e.g. by the cosine of the fraction of the projected distance from the centre to the edge of the visible disk, and zero off the edge of the ball.  Show the intensity array using the colour map `plt.cm.bone`:\n",
    "\n",
    "```python\n",
    "plt.imshow(intensity, cmap=plt.cm.bone)\n",
    "```"
   ]
  },
  {
   "cell_type": "code",
   "execution_count": 31,
   "metadata": {
    "collapsed": false
   },
   "outputs": [
    {
     "data": {
      "text/plain": [
       "<matplotlib.image.AxesImage at 0x111259f90>"
      ]
     },
     "execution_count": 31,
     "metadata": {},
     "output_type": "execute_result"
    },
    {
     "data": {
      "image/png": "[encoded data removed]",
      "text/plain": [
       "<matplotlib.figure.Figure at 0x10e68cd50>"
      ]
     },
     "metadata": {},
     "output_type": "display_data"
    }
   ],
   "source": [
    "#Answer\n",
    "import matplotlib.pyplot as plt\n",
    "\n",
    "xarr = np.arange(1024.) - 512\n",
    "yarr = np.arange(1024.) - 512\n",
    "x,y = np.meshgrid(xarr,yarr)\n",
    "r = np.sqrt(x**2+y**2)\n",
    "rp = 400.\n",
    "rrp = r/rp\n",
    "i = np.cos(rrp)\n",
    "rpinx = r > rp\n",
    "i[rpinx] = 0.\n",
    "plt.imshow(i, cmap=plt.cm.bone)"
   ]
  },
  {
   "cell_type": "markdown",
   "metadata": {},
   "source": [
    "## Operations looped over a dimension\n",
    "\n",
    "Some Numpy functions can be specifed to act over only one dimension:"
   ]
  },
  {
   "cell_type": "code",
   "execution_count": 32,
   "metadata": {
    "collapsed": false
   },
   "outputs": [
    {
     "name": "stdout",
     "output_type": "stream",
     "text": [
      "[[1 2]\n",
      " [3 4]]\n",
      "\n",
      "10\n",
      "\n",
      "[4 6]\n",
      "\n",
      "[ 1.5  3.5]\n",
      "\n",
      "[ 2 12]\n"
     ]
    }
   ],
   "source": [
    "x = np.array([[1,2],[3,4]])\n",
    "print x\n",
    "print ''\n",
    "print np.sum(x)\n",
    "print ''\n",
    "print np.sum(x, axis=0)\n",
    "print ''\n",
    "print np.mean(x, axis=1)\n",
    "print ''\n",
    "print np.prod(x, axis=1)"
   ]
  },
  {
   "cell_type": "markdown",
   "metadata": {},
   "source": [
    "<div class=\"alert alert-warning\" style=\"width: 60%; margin-left: 20%; margin-top:20px\">\n",
    "<p>**IMPORTANT!**</p>\n",
    "<p>Remember that zeroth axis is vertical (refers to row number) and the first axis is horizontal (refers to column number)!</p>\n",
    "</div>\n",
    "\n",
    "This behaviour is very useful for e.g. integrating over one coordinate.\n",
    "\n",
    "### Matrix operations\n",
    "\n",
    "Just like with 1D arrays, the temptation is to think of N-D NDarrays as matrices.  They can indeed be used to represent matrices, but as for vectors, we need to use Numpy functions to perform matrix operations.  Have a look at the following:"
   ]
  },
  {
   "cell_type": "code",
   "execution_count": 33,
   "metadata": {
    "collapsed": false
   },
   "outputs": [
    {
     "name": "stdout",
     "output_type": "stream",
     "text": [
      "\n",
      "[[5 6 3]\n",
      " [2 4 5]\n",
      " [1 4 2]]\n",
      "\n",
      "[[1 2 3]\n",
      " [2 4 5]\n",
      " [1 2 2]]\n",
      "\n",
      "[[ 5 12  9]\n",
      " [ 4 16 25]\n",
      " [ 1  8  4]]\n",
      "\n",
      "[[20 40 51]\n",
      " [15 30 36]\n",
      " [11 22 27]]\n",
      "\n",
      "-42.0\n",
      "\n",
      "[[  2.85714286e-01  -1.11022302e-17  -4.28571429e-01]\n",
      " [ -2.38095238e-02  -1.66666667e-01   4.52380952e-01]\n",
      " [ -9.52380952e-02   3.33333333e-01  -1.90476190e-01]]\n",
      "\n",
      "[[5 2 1]\n",
      " [6 4 4]\n",
      " [3 5 2]]\n"
     ]
    }
   ],
   "source": [
    "a = np.array([[5,6,3],[2,4,5],[1,4,2]])\n",
    "b = np.array([[1,2,3],[2,4,5],[1,2,2]])\n",
    "\n",
    "print ''\n",
    "print a\n",
    "print ''\n",
    "print b\n",
    "print ''\n",
    "print a*b\n",
    "print ''\n",
    "print np.dot(a,b)\n",
    "print ''\n",
    "print np.linalg.det(a)\n",
    "print ''\n",
    "print np.linalg.inv(a)\n",
    "print ''\n",
    "print a.T"
   ]
  },
  {
   "cell_type": "markdown",
   "metadata": {},
   "source": [
    "On lines 9, 11, 13, 15, and 17 we have multiplied the arrays element-wise, performed matrix multiplication, computed the determinant and inverse of matrix `a`, and found the transpose of `a`, respectively.  The module name \"linalg\" stands for:\n",
    "\n",
    "#### Linear algebra\n",
    "\n",
    "Numpy's matrix operations can be used to perform linear algebra.  You may recall from the Maths course that we can write sets of simultaneous equations using matrices.  For example, \n",
    "\n",
    "$$x-z = 5$$\n",
    "$$-2x+3y=1$$\n",
    "$$x-3y+2z=-10$$\n",
    "\n",
    "can be written in matrix form as\n",
    "\n",
    "$$\\begin{pmatrix} 1 & 0 & -1 \\\\ -2 & 3 & 0 \\\\ 1 & -3 & 2 \\end{pmatrix} \\begin{pmatrix} x \\\\ y \\\\ z \\end{pmatrix} = \\begin{pmatrix} 5 \\\\ 1 \\\\ -10 \\end{pmatrix}$$\n",
    "\n",
    "or\n",
    "\n",
    "$$\\mathrm{Mr=k}\\;\\;,$$\n",
    "\n",
    "which can be solved by finding \n",
    "\n",
    "$$\\mathrm{r=M^{-1}k}\\;\\;.$$\n",
    "\n",
    "This is easily achieved using the following code:"
   ]
  },
  {
   "cell_type": "code",
   "execution_count": 34,
   "metadata": {
    "collapsed": false
   },
   "outputs": [
    {
     "name": "stdout",
     "output_type": "stream",
     "text": [
      "[[ 1.]\n",
      " [ 1.]\n",
      " [-4.]]\n"
     ]
    }
   ],
   "source": [
    "m = [[1,0,-1],[-2,3,0],[1,-3,2]]\n",
    "k =[[5],[1],[-10]]\n",
    "r = np.linalg.solve(m,k)\n",
    "print r"
   ]
  },
  {
   "cell_type": "markdown",
   "metadata": {},
   "source": [
    "which means the solution is\n",
    "\n",
    "$$\\mathrm{r}=\\begin{pmatrix} x \\\\ y \\\\ z \\end{pmatrix} =\\begin{pmatrix} 1 \\\\ 1 \\\\ -4 \\end{pmatrix}\\;\\;,$$\n",
    "\n",
    "or $x=1, y=1, z=-4$.  In this case, you can check this yourself using elementary methods, but if this process needs to be repeated a million times it's convenient to let the computer do it for you!\n",
    "\n",
    "Recall that matrices can be used to represent rotations.  If, following a matrix transformation on a vector $\\mathbf{r}$, the resulting vector $\\mathbf{R}$ is in the same direction as the original vector $\\mathbf{r}$, but with a length that is multiplied by some scalar factor $\\lambda$, then the vector $\\mathbf{r}$ is said to be an *eigenvector* of the matrix, and the associated value of the scalar $\\lambda$ is said to be an *eigenvalue*. More generally, an *eigenvalue problem* is one in which we end up with something of the form\n",
    "\n",
    "$$\\mathrm{Mr}=\\lambda\\mathrm{r}\\;\\;,$$\n",
    "\n",
    "which could arise when we have systems of simultaneous equations, for example.  Let's say we end up with the following:\n",
    "\n",
    "$$\\begin{pmatrix} 2 & 3 \\\\ 3 & 2 \\end{pmatrix} \\begin{pmatrix} x \\\\ y \\end{pmatrix} = \\lambda \\begin{pmatrix} x \\\\ y \\end{pmatrix}$$\n",
    "\n",
    "Before we get Numpy to do all the work for us, let's make sure we understand how to obtain the eigenvalues and eigenvectors for an eigenvalue problem like this. To do so, we obtain and solve its *characteristic equation*, which is generated by subtracting $\\lambda$ from the main diagonal of the matrix and setting the determinant of the resulting matrix to be equal to zero. Like this:\n",
    "\n",
    "$$\\begin{vmatrix} 2 - \\lambda & 3 \\\\ 3 & 2 - \\lambda \\end{vmatrix} = 0\\;\\;.$$\n",
    "\n",
    "Recall that the determinant of a $2\\times2$ matrix $\\begin{vmatrix} a & b \\\\ c & d \\end{vmatrix} = ad - bc$.  We therefore have\n",
    "\n",
    "$$(2 - \\lambda)(2 - \\lambda) - 9 = 0\\;\\;,$$\n",
    "\n",
    "or\n",
    "\n",
    "$$\\lambda^2 - 4\\lambda - 5 = 0\\;\\;,$$\n",
    "\n",
    "which has the solutions $\\lambda=-1,5$.  These are the eigenvalues, and we substitute them back in to (any of) the original equations find the eigenvectors, which lie along the directions of the lines $y=-x$ and $y=x$.\n",
    "\n",
    "OK, let's do this using Numpy:"
   ]
  },
  {
   "cell_type": "code",
   "execution_count": 35,
   "metadata": {
    "collapsed": false
   },
   "outputs": [
    {
     "name": "stdout",
     "output_type": "stream",
     "text": [
      "[ 5. -1.] [[ 0.70710678 -0.70710678]\n",
      " [ 0.70710678  0.70710678]]\n"
     ]
    }
   ],
   "source": [
    "m = np.array([[2,3],[3,2]])\n",
    "eva, eve = np.linalg.eig(m)\n",
    "print eva, eve"
   ]
  },
  {
   "cell_type": "markdown",
   "metadata": {},
   "source": [
    "The eigenvalues are returned are 5 and -1, consistent with our calculations above, and the eigenvectors (normalised, such that their magntitude is 1), point along the directions of $y=-x$ and $y=x$, as we calculated.\n",
    "\n",
    "#### Task 6.12\n",
    "\n",
    "The Fibonnaci numbers are a famous sequence, appearing in natural patterns in nature and numerous areas of culture and technology, in which each number is generated from the sum of the previous two.  This process can be written as a matrix equation:\n",
    "\n",
    "$$\\begin{pmatrix} 1 & 1 \\\\ 1 & 0 \\end{pmatrix} \\begin{pmatrix} x_n \\\\ x_{n-1} \\end{pmatrix} = \\begin{pmatrix} x_{n+1} \\\\ x_n \\end{pmatrix}\\;\\;.$$\n",
    "\n",
    "In general, iteration of a matrix operation (i.e. repeated application where the $n+1^{th}$ result is given by operation on the $n^{th}$ result) converges toward an eigenvector - the one associated with the largest eigenvalue.  Calculate and print the largest eigenvalue of the above matrix. You should find it to be a somewhat venerated number (given by the value to which the ratios of consecutive Fibonnaci numbers converge)."
   ]
  },
  {
   "cell_type": "code",
   "execution_count": 36,
   "metadata": {
    "collapsed": false
   },
   "outputs": [
    {
     "name": "stdout",
     "output_type": "stream",
     "text": [
      "1.61803398875\n"
     ]
    }
   ],
   "source": [
    "#Answer\n",
    "m = np.array([[1,1],[1,0]])\n",
    "eva, eve = np.linalg.eig(m)\n",
    "print np.max(eva) # This is the golden ratio"
   ]
  },
  {
   "cell_type": "markdown",
   "metadata": {},
   "source": [
    "#### Task 6.13\n",
    "\n",
    "Consider a system in which two identical bodies of mass $m$ sit on a frictionless surface and are coupled by springs with spring constants $5k$, $k$, and $5k$, to each other and two immovable walls as in the following figure:\n",
    "\n",
    "<img src=\"coupled_eigen.pdf\" width=\"60%\" style=\"display: inline-block; margin-top: 5px;\">\n",
    "\n",
    "If the displacement of the masses from the unstretched, equilibrium positions are $x$ and $y$, Hooke's Law and Newton's Second Law yield the following equations of motion for the two springs:\n",
    "\n",
    "$$m\\ddot{x} = -5kx + k(y-x)\\;\\;,$$\n",
    "$$m\\ddot{y} = -k(y-x) - 5ky\\;\\;.$$\n",
    "\n",
    "In general, these two masses will oscillate at different frequencies, depending on their initial displacements.  It is possible, however, to start the system in such a way that both the masses oscillate back and forth at the same frequency.  This is the *normal mode*, or the *eigenmode* of the system, defined as the mode in which all the different parts vibrate with the same angular frequency, $\\omega$, called the *eigenfrequency*.  Not surprisingly, we find the conditions for the eigenmode by computing the eigenvalues and eigenvectors. \n",
    "\n",
    "If our system oscillates with the angular frequency $\\omega$, it's reasonable to assume a solution of the form $x = x_0e^{i\\omega t}$ and $y = y_0e^{i\\omega t}$. Differentiating twice, we obtain\n",
    "\n",
    "$$\\ddot{x}=-\\omega^2 x\\;\\;,$$\n",
    "$$\\ddot{y}=-\\omega^2 y\\;\\;,$$\n",
    "\n",
    "which we can substitute into our equations of motion to obtain\n",
    "\n",
    "$$-m\\omega^2 x = -5kx + k(y-x)\\;\\;,$$\n",
    "$$-m\\omega^2 y = -k(y-x) - 5ky\\;\\;.$$\n",
    "\n",
    "Using the substitution $\\lambda = \\frac{m\\omega^2}{k}$, compute the eigenvalues, and thus the eigenfrequencies of the system, and deduce from the eigenvectors the direction of motion of the two masses relative to one another in these two modes of vibration.  What values in Hz do the vibration frequencies take if $m=k=1$?"
   ]
  },
  {
   "cell_type": "code",
   "execution_count": 37,
   "metadata": {
    "collapsed": false
   },
   "outputs": [
    {
     "name": "stdout",
     "output_type": "stream",
     "text": [
      "[ 7.  5.] [[ 0.70710678  0.70710678]\n",
      " [-0.70710678  0.70710678]]\n",
      "[ 0.4210844   0.35588127]\n"
     ]
    }
   ],
   "source": [
    "#Answer\n",
    "\n",
    "a = np.array([[6,-1],[-1,6]])\n",
    "lam, eve = np.linalg.eig(a)\n",
    "freq = np.sqrt(lam)/(2.*np.pi)\n",
    "print lam, eve\n",
    "print freq\n",
    "# The eigenvectors are orthogonal. \n",
    "# Physically, this means that in the first case the masses oscillate in the same direction\n",
    "# In the other case, they oscillate in opposite directions"
   ]
  },
  {
   "cell_type": "markdown",
   "metadata": {},
   "source": [
    "### RecArrays and reading in data from files\n",
    "\n",
    "We finally mention a further Numpy type useful for data analysis, derived from `NDArray`s, and called the `RecArray`, or *Record Array*.  We have already met the Python `dict`:"
   ]
  },
  {
   "cell_type": "code",
   "execution_count": 38,
   "metadata": {
    "collapsed": false
   },
   "outputs": [
    {
     "name": "stdout",
     "output_type": "stream",
     "text": [
      "['sausage', 'spam', 4.5]\n"
     ]
    }
   ],
   "source": [
    "d = {'key1':2, 'key2':['sausage', 'spam', 4.5]}\n",
    "print d['key2']"
   ]
  },
  {
   "cell_type": "markdown",
   "metadata": {},
   "source": [
    "These are useful for containing small amounts of different types of data, but arrays of `dict`s are accessed via Python loops, which are slow, thus limiting the usefulness of `dict`s for storing large volumes of data.  For example, let's say we have a spacecraft instrument that repeatedly measures three components of the ambient magnetic field, $B_x$, $B_y$, and $B_z$, and records them in a file along with a timestamp.  This file could in principle contain many thousands of individual records, each identical except for the values.  Reading in and looping over these data in Python `dict`s would be painfully slow; this is where the `RecArray` comes in.  We can in principle define a `RecArray` manually:"
   ]
  },
  {
   "cell_type": "code",
   "execution_count": 39,
   "metadata": {
    "collapsed": false
   },
   "outputs": [
    {
     "name": "stdout",
     "output_type": "stream",
     "text": [
      "(2, 1.5, 3)\n",
      "[ 1.5  2.2]\n"
     ]
    }
   ],
   "source": [
    "ndarr = np.rec.array([(2, 1.5, 3),\n",
    "                      (0, 2.2, 0)],\n",
    "                      dtype=[('x', 'int'), ('y', 'float'), ('z', 'int')])\n",
    "print ndarr[0]\n",
    "print ndarr.y"
   ]
  },
  {
   "cell_type": "markdown",
   "metadata": {},
   "source": [
    "Here each record is defined from a tuple - the first record is `(2, 1.5, 3)`, for example.  However, we can also access each column by the names given in the definition, and `ndarr.y` returns the column of values of `y`: `[1.5, 2.2]`.  This is what makes NDArrays so much better for dealing with data than `dict`s.\n",
    "\n",
    "However, it's rare that we will actually wish to define a RecArray manually; their use lies in processing large volume of data, after all.  Fortunately, Numpy provides very convenient functions for reading in data from files.  Data files can be either in some kind of binary format (memory-efficient and quick to access, but not human-readable) or ASCII text format (human-readable, but bulky and slow to read and write).  We will concentrate here on ASCII-formatted files, but note that IO (\"input-output\") procedures are available for the many binary formats out there (see e.g. the docs on the Numpy functions `save` and `load`, for example).  \n",
    "\n",
    "An outrageously useful function for reading data from a text file and dumping it into a recarray is called, obviously, `recfromtxt`, and its use is demonstrated in the following cell:\n"
   ]
  },
  {
   "cell_type": "code",
   "execution_count": 40,
   "metadata": {
    "collapsed": false
   },
   "outputs": [
    {
     "name": "stdout",
     "output_type": "stream",
     "text": [
      "('date', 'time', 'hlon', 'hlat', 'r', 'rdot')\n",
      "('1997-Oct-16', '00:00', 22.6208, 0.0137, 0.997922579321, 2.343983)\n"
     ]
    },
    {
     "data": {
      "text/plain": [
       "[<matplotlib.lines.Line2D at 0x1175d7b90>]"
      ]
     },
     "execution_count": 40,
     "metadata": {},
     "output_type": "execute_result"
    },
    {
     "data": {
      "image/png": "[encoded data removed]",
      "text/plain": [
       "<matplotlib.figure.Figure at 0x1174d2650>"
      ]
     },
     "metadata": {},
     "output_type": "display_data"
    }
   ],
   "source": [
    "datafile = 'cassini_coords.txt'\n",
    "scdat = np.recfromtxt(datafile, skip_header=103, skip_footer=47, \n",
    "                      names=['date', 'time', 'hlon', 'hlat', 'r', 'rdot'])\n",
    "print scdat.dtype.names\n",
    "print scdat[0]\n",
    "plt.plot(scdat.r, scdat.rdot)"
   ]
  },
  {
   "cell_type": "markdown",
   "metadata": {},
   "source": [
    "This function has just saved you a *lot* of time.  You have provided only the name of the file, the lengths of the header and footer (lines at the top and bottom of the file that are not data, but contain information about it; these are obtained from inspection of the file), and some names for the columns. The function has opened the data file, read in each line of it, automatically split the lines into strings or numbers, converted the lot to a recarray, and closed the file.  We can see that the recarray columns are faithfully named, and we have also printed the first record and plotted one column versus another (in this case these are the distance of Cassini from the Sun during its interplanetary cruise, and its rate of change). \n",
    "\n",
    "#### Task 6.14\n",
    "\n",
    "Read in the contents of the file 'rev26_27.dat' into a RecArray.  This is a data file containing Cassini magnetometer measurements from two orbits around Saturn in 2007. The columns are day-of-year since 2004, and three field components in spherical polar coordinates ($B_r$, $B_\\theta$, $B_\\varphi$).  Print the first record, and also print the $B_r$ values.  Find the mean and standard deviation of the $B_r$ values. Plot $B_r$ vs. time (in day-of-year-2004)\n"
   ]
  },
  {
   "cell_type": "code",
   "execution_count": 41,
   "metadata": {
    "collapsed": false
   },
   "outputs": [
    {
     "name": "stdout",
     "output_type": "stream",
     "text": [
      "(934.909028, -1.406273, -9.233887, 4.421532)\n",
      "[-1.406273 -1.392281 -1.406921 ..., -4.003166 -3.976837 -3.979042]\n",
      "nan\n",
      "nan\n",
      "0.375017986809\n",
      "2.47614668389\n"
     ]
    },
    {
     "data": {
      "text/plain": [
       "[<matplotlib.lines.Line2D at 0x118020b50>]"
      ]
     },
     "execution_count": 41,
     "metadata": {},
     "output_type": "execute_result"
    },
    {
     "data": {
      "image/png": "[encoded data removed]",
      "text/plain": [
       "<matplotlib.figure.Figure at 0x10e116750>"
      ]
     },
     "metadata": {},
     "output_type": "display_data"
    }
   ],
   "source": [
    "#Answer\n",
    "\n",
    "import numpy as np\n",
    "import matplotlib.pyplot as plt\n",
    "\n",
    "dfile = 'rev26_27.dat'\n",
    "cass = np.recfromtxt(dfile, names=['doy2004', 'br', 'bt', 'bp'])\n",
    "\n",
    "print cass[0]\n",
    "print cass.br\n",
    "print np.mean(cass.br)\n",
    "print np.std(cass.br)\n",
    "print np.nanmean(cass.br) #nanmean needed owing to the nan values!\n",
    "print np.nanstd(cass.br)\n",
    "\n",
    "plt.plot(cass.doy2004, cass.br)"
   ]
  },
  {
   "cell_type": "markdown",
   "metadata": {},
   "source": [
    "<div class=\"alert alert-success\" style=\"width: 60%; margin-left: 20%; margin-top:20px\">\n",
    "<p>**INFO**</p>\n",
    "<p>When printing large arrays, IPython truncates large arrays to show you the first few and the last few elements.  This behaviour can be changed. For example, setting np.set_printoptions(threshold=np.nan) will print the whole array.</p>\n",
    "</div>"
   ]
  },
  {
   "cell_type": "markdown",
   "metadata": {},
   "source": [
    "<div class=\"alert alert-danger\" style=\"width: 60%; margin-left: 20%; margin-top:20px\">\n",
    "<p>**Checkpoint: Please have the above marked and signed off by a demonstrator before continuing**</p>\n",
    "</div>"
   ]
  }
 ],
 "metadata": {
  "kernelspec": {
   "display_name": "Python 3",
   "language": "python",
   "name": "python3"
  },
  "language_info": {
   "codemirror_mode": {
    "name": "ipython",
    "version": 3
   },
   "file_extension": ".py",
   "mimetype": "text/x-python",
   "name": "python",
   "nbconvert_exporter": "python",
   "pygments_lexer": "ipython3",
   "version": "3.5.2"
  }
 },
 "nbformat": 4,
 "nbformat_minor": 0
}
